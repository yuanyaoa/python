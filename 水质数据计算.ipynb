{
 "cells": [
  {
   "cell_type": "code",
   "execution_count": 30,
   "metadata": {},
   "outputs": [],
   "source": [
    "import numpy as np\n",
    "import pandas as pd\n",
    "import os\n",
    "import openpyxl"
   ]
  },
  {
   "cell_type": "code",
   "execution_count": 31,
   "metadata": {},
   "outputs": [],
   "source": [
    "dir_str = r'C:\\Users\\Y\\Desktop\\2021年4月'"
   ]
  },
  {
   "cell_type": "code",
   "execution_count": 32,
   "metadata": {},
   "outputs": [],
   "source": [
    "file_name = os.listdir(dir_str)"
   ]
  },
  {
   "cell_type": "code",
   "execution_count": 33,
   "metadata": {},
   "outputs": [],
   "source": [
    "file_dir = [os.path.join(dir_str, x) for x in file_name]"
   ]
  },
  {
   "cell_type": "code",
   "execution_count": 34,
   "metadata": {},
   "outputs": [],
   "source": [
    "m_tem = []\n",
    "m_ph = []\n",
    "for i in range(len(file_dir)):\n",
    "    single_outer_i = pd.read_excel(file_dir[i],header=1,skiprows=[2])\n",
    "    m_tem_i = single_outer_i['水温(℃)'].mean()\n",
    "    m_ph_i = single_outer_i['pH值(无量纲)'].mean()\n",
    "    m_tem.append(m_tem_i)\n",
    "    m_ph.append(m_ph_i) "
   ]
  },
  {
   "cell_type": "code",
   "execution_count": 35,
   "metadata": {},
   "outputs": [],
   "source": [
    "n=len(file_dir)\n",
    "df = pd.DataFrame(np.zeros(428).reshape(214,2),columns = ['m_tem','m_ph'], index = ['row%d'%i for i in range(214)])\n",
    "df['m_tem'] = m_tem\n",
    "df['m_ph'] = m_ph\n",
    "df.to_excel(r'C:\\Users\\Y\\Desktop\\total_test.xlsx')"
   ]
  },
  {
   "cell_type": "code",
   "execution_count": null,
   "metadata": {},
   "outputs": [],
   "source": []
  },
  {
   "cell_type": "code",
   "execution_count": null,
   "metadata": {},
   "outputs": [],
   "source": []
  }
 ],
 "metadata": {
  "kernelspec": {
   "display_name": "Python 3",
   "language": "python",
   "name": "python3"
  },
  "language_info": {
   "codemirror_mode": {
    "name": "ipython",
    "version": 3
   },
   "file_extension": ".py",
   "mimetype": "text/x-python",
   "name": "python",
   "nbconvert_exporter": "python",
   "pygments_lexer": "ipython3",
   "version": "3.7.1"
  }
 },
 "nbformat": 4,
 "nbformat_minor": 2
}
